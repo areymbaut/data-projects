{
 "cells": [
  {
   "cell_type": "markdown",
   "metadata": {},
   "source": [
    "# Unsupervised learning"
   ]
  },
  {
   "cell_type": "markdown",
   "metadata": {},
   "source": [
    "Unsupervised learning consists in creating a new type of label to predict on data that may or may not have been labelled initially. This new type a label could be a rotation angle for instance. This allows for the creation of custom weights that can serve as a good basis for the later \"real\" model training.\n",
    "\n",
    "Note that the type of label used for unsupervised learning has to be selected somewhat carefully. For instance, rotations are useful when the \"real\" labels are expected to have specific orientations in the images (_e.g._, planes tend to be rather horizontal in images where they are on the ground). This label would not be useful for images where such orientations do not exist (_e.g._, most cellular microscopy images).\n",
    "\n",
    "The data used for unsupervised learning should look similar to the data of interest, but does not have to match it perfectly, as real labels do not matter for this kind of learning."
   ]
  },
  {
   "cell_type": "code",
   "execution_count": 31,
   "metadata": {},
   "outputs": [],
   "source": [
    "import os\n",
    "import time\n",
    "import numpy as np\n",
    "import matplotlib.pyplot as plt\n",
    "import random\n",
    "from typing import Tuple\n",
    "from PIL import Image\n",
    "from copy import deepcopy\n",
    "\n",
    "import torch\n",
    "import torch.nn as nn\n",
    "import torch.optim as optim\n",
    "import torchvision\n",
    "import torchvision.transforms as transforms\n",
    "import torchvision.transforms.functional as FT\n",
    "import torchvision.datasets as datasets\n",
    "import torchvision.models as models\n",
    "\n",
    "from Trainer import ModelTrainer"
   ]
  },
  {
   "cell_type": "code",
   "execution_count": 2,
   "metadata": {},
   "outputs": [],
   "source": [
    "# Directory to load/save datasets and models\n",
    "data_dir = './datasets/'\n",
    "if (not os.path.isdir(data_dir)):\n",
    "    os.mkdir(data_dir)\n",
    "\n",
    "model_dir = './models/'\n",
    "if (not os.path.isdir(model_dir)):\n",
    "    os.mkdir(model_dir)\n",
    "\n",
    "# Device\n",
    "device = torch.device('cuda' if torch.cuda.is_available()\n",
    "                      else 'mps' if torch.backends.mps.is_available()\n",
    "                      else 'cpu')"
   ]
  },
  {
   "cell_type": "markdown",
   "metadata": {},
   "source": [
    "## Data preparation"
   ]
  },
  {
   "cell_type": "code",
   "execution_count": 12,
   "metadata": {},
   "outputs": [],
   "source": [
    "class RotateSTL10(datasets.STL10):\n",
    "    \"\"\"\n",
    "    Randomly rotate images.\n",
    "    The final rand_int becomes the new label to predict.\n",
    "    \"\"\"\n",
    "\n",
    "    # Angles in degrees\n",
    "    # (Named all_perms for consistency with ShuffleSTL10 below)\n",
    "    all_perms = [0, 45, 90, 135, 180, 225, 270]\n",
    "\n",
    "\n",
    "    # Overwrite datasets.STL10's __getitem__ method\n",
    "    def __getitem__(self, index: int) -> Tuple[Image.Image, int]:\n",
    "        img = self.data[index]\n",
    "\n",
    "        # Make sure image remains a PIL image after transposition\n",
    "        img = Image.fromarray(np.transpose(img, (1, 2, 0)))\n",
    "\n",
    "        # Perform rotations with random angles from self.angles \n",
    "        rand_int = random.randint(0, len(self.all_perms) - 1)\n",
    "        img = FT.rotate(img, angle=self.all_perms[rand_int])\n",
    "\n",
    "        # Add other transforms post rotation\n",
    "        if self.transform is not None:\n",
    "            img = self.transform(img)\n",
    "\n",
    "        return img, rand_int"
   ]
  },
  {
   "cell_type": "code",
   "execution_count": 37,
   "metadata": {},
   "outputs": [
    {
     "name": "stdout",
     "output_type": "stream",
     "text": [
      "Files already downloaded and verified\n",
      "Files already downloaded and verified\n"
     ]
    }
   ],
   "source": [
    "# General image information\n",
    "n_channels_in = 3  # Color images\n",
    "pixel_size = 96\n",
    "\n",
    "# Image transform\n",
    "data_mean = [0.485, 0.456, 0.406]\n",
    "data_std = [0.229, 0.224, 0.225]\n",
    "transform = transforms.Compose(\n",
    "    [transforms.Resize(pixel_size),\n",
    "     transforms.ToTensor(),\n",
    "     transforms.Normalize(data_mean, data_std)]\n",
    ")\n",
    "\n",
    "# Loading MNIST dataset of handwritten digits with RotateSTL10\n",
    "train_data = RotateSTL10(data_dir,\n",
    "                         split='train+unlabeled',\n",
    "                         download=True,\n",
    "                         transform=transform)\n",
    "test_data = RotateSTL10(data_dir,\n",
    "                        split='test',\n",
    "                        download=True,\n",
    "                        transform=transform)\n",
    "\n",
    "# Let us split the training set into train and validation sets\n",
    "train_size = 0.9\n",
    "n_samples_train = int(len(train_data)*train_size)\n",
    "n_samples_val = len(train_data) - n_samples_train\n",
    "train_data, val_data \\\n",
    "    = torch.utils.data.random_split(train_data,\n",
    "                                    [n_samples_train, n_samples_val],\n",
    "                                    generator=torch.Generator().manual_seed(42))"
   ]
  },
  {
   "cell_type": "markdown",
   "metadata": {},
   "source": [
    "## Training model from scratch"
   ]
  },
  {
   "cell_type": "markdown",
   "metadata": {},
   "source": [
    "First, let us train a ResNet from scratch, namely the ResNet18 Pytorch model, which consists of 18 layers. Note that the ImageNet dataset on which the ResNet18 model was trained has 1000 classes, but the STL-10 dataset only has 10, so we need to change the final fully connected layer."
   ]
  },
  {
   "cell_type": "code",
   "execution_count": 38,
   "metadata": {},
   "outputs": [
    {
     "name": "stdout",
     "output_type": "stream",
     "text": [
      "This model has 11_180_103 parameters\n"
     ]
    }
   ],
   "source": [
    "# Randomly initialized weights\n",
    "model_name = 'ResNet18_STL10_rotated'\n",
    "res_net = models.resnet18(weights=None).to(device)\n",
    "\n",
    "n_classes = len(train_data.dataset.all_perms)\n",
    "\n",
    "# Replace final fully connected layer to match the number of classes in our dataset\n",
    "n_features = res_net.fc.in_features\n",
    "res_net.fc = nn.Linear(n_features, n_classes).to(device)\n",
    "\n",
    "# Number of parameters\n",
    "n_params = 0\n",
    "for param in res_net.parameters():\n",
    "    n_params += param.flatten().shape[0]\n",
    "print(f'This model has {n_params:_} parameters')"
   ]
  },
  {
   "cell_type": "code",
   "execution_count": 26,
   "metadata": {},
   "outputs": [
    {
     "name": "stdout",
     "output_type": "stream",
     "text": [
      "Starting from scratch\n",
      "Number of training examples: 94500\n",
      "Number of validation examples: 10500\n",
      "Number of testing examples: 8000\n"
     ]
    }
   ],
   "source": [
    "# Set up model trainer\n",
    "batch_size = 64\n",
    "n_epochs = 30\n",
    "learning_rate = 1e-4\n",
    "start_from_checkpoint = False\n",
    "\n",
    "model_trainer = ModelTrainer(model=res_net,\n",
    "                             device=device,\n",
    "                             loss_fun=nn.CrossEntropyLoss(),\n",
    "                             batch_size=batch_size,\n",
    "                             learning_rate=learning_rate,\n",
    "                             save_dir=model_dir,\n",
    "                             model_name=model_name,\n",
    "                             start_from_checkpoint=start_from_checkpoint)\n",
    "\n",
    "# Set up data\n",
    "model_trainer.set_data(train_set=train_data,\n",
    "                       val_set=val_data,\n",
    "                       test_set=test_data)\n",
    "\n",
    "# Learning-rate scheduler\n",
    "lr_scheduler = optim.lr_scheduler.CosineAnnealingLR(model_trainer.optimizer,\n",
    "                                                    T_max=n_epochs,\n",
    "                                                    eta_min=0)\n",
    "model_trainer.set_lr_schedule(lr_scheduler)"
   ]
  },
  {
   "cell_type": "code",
   "execution_count": 27,
   "metadata": {},
   "outputs": [
    {
     "data": {
      "image/png": "[encoded data removed]",
      "text/plain": [
       "<Figure size 640x480 with 1 Axes>"
      ]
     },
     "metadata": {},
     "output_type": "display_data"
    },
    {
     "name": "stdout",
     "output_type": "stream",
     "text": [
      "Ground-truth Labels:\n",
      "[270, 180, 90, 180, 135]\n",
      "[180, 180, 270, 270, 225]\n",
      "[180, 45, 135, 225, 135]\n",
      "[90, 0, 135, 225, 45]\n",
      "[270, 180, 180, 0, 45]\n"
     ]
    }
   ],
   "source": [
    "# Let us visualize a few images\n",
    "images, labels = next(iter(model_trainer.train_loader))\n",
    "\n",
    "n_row = 5\n",
    "out = torchvision.utils.make_grid(images[:n_row**2], nrow=n_row, normalize=True)\n",
    "plt.imshow(out.numpy().transpose((1, 2, 0)))\n",
    "plt.tick_params(axis='both',\n",
    "                which='both',\n",
    "                left=False,\n",
    "                labelleft=False,\n",
    "                bottom=False,\n",
    "                labelbottom=False)\n",
    "plt.title('Some images', fontsize=15)\n",
    "plt.show()\n",
    "\n",
    "print('Ground-truth Labels:')\n",
    "classes_plot = [train_data.dataset.all_perms[i] for i in labels.numpy().astype(int)]\n",
    "count = 0\n",
    "for i in range(n_row):\n",
    "    start_idx = n_row*i\n",
    "    end_idx = start_idx + n_row\n",
    "    print(classes_plot[start_idx:end_idx])"
   ]
  },
  {
   "cell_type": "code",
   "execution_count": 28,
   "metadata": {},
   "outputs": [
    {
     "data": {
      "application/vnd.jupyter.widget-view+json": {
       "model_id": "a9de0ef17f894dfcb76930dd9d06a804",
       "version_major": 2,
       "version_minor": 0
      },
      "text/plain": [
       "Epoch:   0%|          | 0/30 [00:00<?, ?it/s]"
      ]
     },
     "metadata": {},
     "output_type": "display_data"
    },
    {
     "data": {
      "application/vnd.jupyter.widget-view+json": {
       "model_id": "f02f6efd3dba45c1b066ebe60e357b17",
       "version_major": 2,
       "version_minor": 0
      },
      "text/plain": [
       "Training:   0%|          | 0/1477 [00:00<?, ?it/s]"
      ]
     },
     "metadata": {},
     "output_type": "display_data"
    },
    {
     "data": {
      "application/vnd.jupyter.widget-view+json": {
       "model_id": "5e1261018b504e8492938a988228a7bb",
       "version_major": 2,
       "version_minor": 0
      },
      "text/plain": [
       "Evaluating Train Set:   0%|          | 0/1477 [00:00<?, ?it/s]"
      ]
     },
     "metadata": {},
     "output_type": "display_data"
    },
    {
     "data": {
      "application/vnd.jupyter.widget-view+json": {
       "model_id": "5b74e6bec42245d393bf85fe9be26c1d",
       "version_major": 2,
       "version_minor": 0
      },
      "text/plain": [
       "Evaluating Validation Set:   0%|          | 0/165 [00:00<?, ?it/s]"
      ]
     },
     "metadata": {},
     "output_type": "display_data"
    },
    {
     "data": {
      "application/vnd.jupyter.widget-view+json": {
       "model_id": "41d3024f758e4582a4c91025b9342cbf",
       "version_major": 2,
       "version_minor": 0
      },
      "text/plain": [
       "Training:   0%|          | 0/1477 [00:00<?, ?it/s]"
      ]
     },
     "metadata": {},
     "output_type": "display_data"
    },
    {
     "data": {
      "application/vnd.jupyter.widget-view+json": {
       "model_id": "6231153f36e24508b67d7e3ccf2e9bb6",
       "version_major": 2,
       "version_minor": 0
      },
      "text/plain": [
       "Evaluating Train Set:   0%|          | 0/1477 [00:00<?, ?it/s]"
      ]
     },
     "metadata": {},
     "output_type": "display_data"
    },
    {
     "data": {
      "application/vnd.jupyter.widget-view+json": {
       "model_id": "6ff9afb4a5124b8d93c08f83dbd6962b",
       "version_major": 2,
       "version_minor": 0
      },
      "text/plain": [
       "Evaluating Validation Set:   0%|          | 0/165 [00:00<?, ?it/s]"
      ]
     },
     "metadata": {},
     "output_type": "display_data"
    },
    {
     "data": {
      "application/vnd.jupyter.widget-view+json": {
       "model_id": "91f5f683576f4d789ffba1afda963423",
       "version_major": 2,
       "version_minor": 0
      },
      "text/plain": [
       "Training:   0%|          | 0/1477 [00:00<?, ?it/s]"
      ]
     },
     "metadata": {},
     "output_type": "display_data"
    },
    {
     "data": {
      "application/vnd.jupyter.widget-view+json": {
       "model_id": "6a9d5524f8444b37a8fbcd72a58055e6",
       "version_major": 2,
       "version_minor": 0
      },
      "text/plain": [
       "Evaluating Train Set:   0%|          | 0/1477 [00:00<?, ?it/s]"
      ]
     },
     "metadata": {},
     "output_type": "display_data"
    },
    {
     "data": {
      "application/vnd.jupyter.widget-view+json": {
       "model_id": "2ed9f0fcb3b442acaff527fdb29d2a17",
       "version_major": 2,
       "version_minor": 0
      },
      "text/plain": [
       "Evaluating Validation Set:   0%|          | 0/165 [00:00<?, ?it/s]"
      ]
     },
     "metadata": {},
     "output_type": "display_data"
    },
    {
     "data": {
      "application/vnd.jupyter.widget-view+json": {
       "model_id": "9e649249e7b14996ad99672a9b6bd059",
       "version_major": 2,
       "version_minor": 0
      },
      "text/plain": [
       "Training:   0%|          | 0/1477 [00:00<?, ?it/s]"
      ]
     },
     "metadata": {},
     "output_type": "display_data"
    },
    {
     "data": {
      "application/vnd.jupyter.widget-view+json": {
       "model_id": "b9ef11e594cc4ebd9e26b3fd48d627a2",
       "version_major": 2,
       "version_minor": 0
      },
      "text/plain": [
       "Evaluating Train Set:   0%|          | 0/1477 [00:00<?, ?it/s]"
      ]
     },
     "metadata": {},
     "output_type": "display_data"
    },
    {
     "data": {
      "application/vnd.jupyter.widget-view+json": {
       "model_id": "056ed865c0294b868684ebc6cd8806a2",
       "version_major": 2,
       "version_minor": 0
      },
      "text/plain": [
       "Evaluating Validation Set:   0%|          | 0/165 [00:00<?, ?it/s]"
      ]
     },
     "metadata": {},
     "output_type": "display_data"
    },
    {
     "data": {
      "application/vnd.jupyter.widget-view+json": {
       "model_id": "5e261f36a42444d696c8711a63a79d55",
       "version_major": 2,
       "version_minor": 0
      },
      "text/plain": [
       "Training:   0%|          | 0/1477 [00:00<?, ?it/s]"
      ]
     },
     "metadata": {},
     "output_type": "display_data"
    },
    {
     "data": {
      "application/vnd.jupyter.widget-view+json": {
       "model_id": "be112793657246e1ab59dacd9120bf86",
       "version_major": 2,
       "version_minor": 0
      },
      "text/plain": [
       "Evaluating Train Set:   0%|          | 0/1477 [00:00<?, ?it/s]"
      ]
     },
     "metadata": {},
     "output_type": "display_data"
    },
    {
     "data": {
      "application/vnd.jupyter.widget-view+json": {
       "model_id": "e4f334b5b4b14377ab3a7369d500b982",
       "version_major": 2,
       "version_minor": 0
      },
      "text/plain": [
       "Evaluating Validation Set:   0%|          | 0/165 [00:00<?, ?it/s]"
      ]
     },
     "metadata": {},
     "output_type": "display_data"
    },
    {
     "data": {
      "application/vnd.jupyter.widget-view+json": {
       "model_id": "07e8479116ac402aa92d28c2077973c7",
       "version_major": 2,
       "version_minor": 0
      },
      "text/plain": [
       "Training:   0%|          | 0/1477 [00:00<?, ?it/s]"
      ]
     },
     "metadata": {},
     "output_type": "display_data"
    },
    {
     "data": {
      "application/vnd.jupyter.widget-view+json": {
       "model_id": "fa6993bbb8fd45a193f419cab40ee431",
       "version_major": 2,
       "version_minor": 0
      },
      "text/plain": [
       "Evaluating Train Set:   0%|          | 0/1477 [00:00<?, ?it/s]"
      ]
     },
     "metadata": {},
     "output_type": "display_data"
    },
    {
     "data": {
      "application/vnd.jupyter.widget-view+json": {
       "model_id": "7f9d4ad60198470ba0f107cf676125b4",
       "version_major": 2,
       "version_minor": 0
      },
      "text/plain": [
       "Evaluating Validation Set:   0%|          | 0/165 [00:00<?, ?it/s]"
      ]
     },
     "metadata": {},
     "output_type": "display_data"
    },
    {
     "data": {
      "application/vnd.jupyter.widget-view+json": {
       "model_id": "25f0ea4de52a4dff8ca6bf8c4f83841c",
       "version_major": 2,
       "version_minor": 0
      },
      "text/plain": [
       "Training:   0%|          | 0/1477 [00:00<?, ?it/s]"
      ]
     },
     "metadata": {},
     "output_type": "display_data"
    },
    {
     "data": {
      "application/vnd.jupyter.widget-view+json": {
       "model_id": "0ed9a16a709b476f82d93bd5339bdc1a",
       "version_major": 2,
       "version_minor": 0
      },
      "text/plain": [
       "Evaluating Train Set:   0%|          | 0/1477 [00:00<?, ?it/s]"
      ]
     },
     "metadata": {},
     "output_type": "display_data"
    },
    {
     "data": {
      "application/vnd.jupyter.widget-view+json": {
       "model_id": "3dc7db74791f47dea2c7a1c958ae0594",
       "version_major": 2,
       "version_minor": 0
      },
      "text/plain": [
       "Evaluating Validation Set:   0%|          | 0/165 [00:00<?, ?it/s]"
      ]
     },
     "metadata": {},
     "output_type": "display_data"
    },
    {
     "data": {
      "application/vnd.jupyter.widget-view+json": {
       "model_id": "e860fa2c46ad487aa88a5994216f33e5",
       "version_major": 2,
       "version_minor": 0
      },
      "text/plain": [
       "Training:   0%|          | 0/1477 [00:00<?, ?it/s]"
      ]
     },
     "metadata": {},
     "output_type": "display_data"
    },
    {
     "data": {
      "application/vnd.jupyter.widget-view+json": {
       "model_id": "3999917a9a8b4dfbad12a45f00b717fc",
       "version_major": 2,
       "version_minor": 0
      },
      "text/plain": [
       "Evaluating Train Set:   0%|          | 0/1477 [00:00<?, ?it/s]"
      ]
     },
     "metadata": {},
     "output_type": "display_data"
    },
    {
     "data": {
      "application/vnd.jupyter.widget-view+json": {
       "model_id": "f5419319118f40ae8efe0a22a721732f",
       "version_major": 2,
       "version_minor": 0
      },
      "text/plain": [
       "Evaluating Validation Set:   0%|          | 0/165 [00:00<?, ?it/s]"
      ]
     },
     "metadata": {},
     "output_type": "display_data"
    },
    {
     "data": {
      "application/vnd.jupyter.widget-view+json": {
       "model_id": "17a9d5bcdc2842da8cb421ce917b42e6",
       "version_major": 2,
       "version_minor": 0
      },
      "text/plain": [
       "Training:   0%|          | 0/1477 [00:00<?, ?it/s]"
      ]
     },
     "metadata": {},
     "output_type": "display_data"
    },
    {
     "data": {
      "application/vnd.jupyter.widget-view+json": {
       "model_id": "405e32ae4ec545de92f17a6491e49d5c",
       "version_major": 2,
       "version_minor": 0
      },
      "text/plain": [
       "Evaluating Train Set:   0%|          | 0/1477 [00:00<?, ?it/s]"
      ]
     },
     "metadata": {},
     "output_type": "display_data"
    },
    {
     "data": {
      "application/vnd.jupyter.widget-view+json": {
       "model_id": "9b20a6cce6cc43b5a789e7f416b13f52",
       "version_major": 2,
       "version_minor": 0
      },
      "text/plain": [
       "Evaluating Validation Set:   0%|          | 0/165 [00:00<?, ?it/s]"
      ]
     },
     "metadata": {},
     "output_type": "display_data"
    },
    {
     "data": {
      "application/vnd.jupyter.widget-view+json": {
       "model_id": "754d0245a980412e8065f8e79c2ed25c",
       "version_major": 2,
       "version_minor": 0
      },
      "text/plain": [
       "Training:   0%|          | 0/1477 [00:00<?, ?it/s]"
      ]
     },
     "metadata": {},
     "output_type": "display_data"
    },
    {
     "data": {
      "application/vnd.jupyter.widget-view+json": {
       "model_id": "942d07b4919a41e3b1a2d2358acce070",
       "version_major": 2,
       "version_minor": 0
      },
      "text/plain": [
       "Evaluating Train Set:   0%|          | 0/1477 [00:00<?, ?it/s]"
      ]
     },
     "metadata": {},
     "output_type": "display_data"
    },
    {
     "data": {
      "application/vnd.jupyter.widget-view+json": {
       "model_id": "399ebc3fe33a48a1b377251964f4056f",
       "version_major": 2,
       "version_minor": 0
      },
      "text/plain": [
       "Evaluating Validation Set:   0%|          | 0/165 [00:00<?, ?it/s]"
      ]
     },
     "metadata": {},
     "output_type": "display_data"
    },
    {
     "data": {
      "application/vnd.jupyter.widget-view+json": {
       "model_id": "b1c2b3813aa54a3fb014837647455a2e",
       "version_major": 2,
       "version_minor": 0
      },
      "text/plain": [
       "Training:   0%|          | 0/1477 [00:00<?, ?it/s]"
      ]
     },
     "metadata": {},
     "output_type": "display_data"
    },
    {
     "data": {
      "application/vnd.jupyter.widget-view+json": {
       "model_id": "04ddd7b57eb84a9492dfa0190ab79023",
       "version_major": 2,
       "version_minor": 0
      },
      "text/plain": [
       "Evaluating Train Set:   0%|          | 0/1477 [00:00<?, ?it/s]"
      ]
     },
     "metadata": {},
     "output_type": "display_data"
    },
    {
     "data": {
      "application/vnd.jupyter.widget-view+json": {
       "model_id": "5b9cb148e02446ee8319c92fa801b562",
       "version_major": 2,
       "version_minor": 0
      },
      "text/plain": [
       "Evaluating Validation Set:   0%|          | 0/165 [00:00<?, ?it/s]"
      ]
     },
     "metadata": {},
     "output_type": "display_data"
    },
    {
     "data": {
      "application/vnd.jupyter.widget-view+json": {
       "model_id": "9ab9894b15794c80ad94d6d4e37fd249",
       "version_major": 2,
       "version_minor": 0
      },
      "text/plain": [
       "Training:   0%|          | 0/1477 [00:00<?, ?it/s]"
      ]
     },
     "metadata": {},
     "output_type": "display_data"
    },
    {
     "data": {
      "application/vnd.jupyter.widget-view+json": {
       "model_id": "a83d4865899c493f9e51578e96f5c9d1",
       "version_major": 2,
       "version_minor": 0
      },
      "text/plain": [
       "Evaluating Train Set:   0%|          | 0/1477 [00:00<?, ?it/s]"
      ]
     },
     "metadata": {},
     "output_type": "display_data"
    },
    {
     "data": {
      "application/vnd.jupyter.widget-view+json": {
       "model_id": "10748c59e0e34d038b3dd6e3c339a5ee",
       "version_major": 2,
       "version_minor": 0
      },
      "text/plain": [
       "Evaluating Validation Set:   0%|          | 0/165 [00:00<?, ?it/s]"
      ]
     },
     "metadata": {},
     "output_type": "display_data"
    },
    {
     "data": {
      "application/vnd.jupyter.widget-view+json": {
       "model_id": "f06856229c894e81b76c168e4e29140b",
       "version_major": 2,
       "version_minor": 0
      },
      "text/plain": [
       "Training:   0%|          | 0/1477 [00:00<?, ?it/s]"
      ]
     },
     "metadata": {},
     "output_type": "display_data"
    },
    {
     "data": {
      "application/vnd.jupyter.widget-view+json": {
       "model_id": "250de36c38014e3a967034c6ee1826ce",
       "version_major": 2,
       "version_minor": 0
      },
      "text/plain": [
       "Evaluating Train Set:   0%|          | 0/1477 [00:00<?, ?it/s]"
      ]
     },
     "metadata": {},
     "output_type": "display_data"
    },
    {
     "data": {
      "application/vnd.jupyter.widget-view+json": {
       "model_id": "5fc8e46219174194a3a0d8bd59e90285",
       "version_major": 2,
       "version_minor": 0
      },
      "text/plain": [
       "Evaluating Validation Set:   0%|          | 0/165 [00:00<?, ?it/s]"
      ]
     },
     "metadata": {},
     "output_type": "display_data"
    },
    {
     "data": {
      "application/vnd.jupyter.widget-view+json": {
       "model_id": "942b18a0cb53464387b4e2b4384e425b",
       "version_major": 2,
       "version_minor": 0
      },
      "text/plain": [
       "Training:   0%|          | 0/1477 [00:00<?, ?it/s]"
      ]
     },
     "metadata": {},
     "output_type": "display_data"
    },
    {
     "data": {
      "application/vnd.jupyter.widget-view+json": {
       "model_id": "c88be11ee3ef4ece83562260736a2750",
       "version_major": 2,
       "version_minor": 0
      },
      "text/plain": [
       "Evaluating Train Set:   0%|          | 0/1477 [00:00<?, ?it/s]"
      ]
     },
     "metadata": {},
     "output_type": "display_data"
    },
    {
     "data": {
      "application/vnd.jupyter.widget-view+json": {
       "model_id": "11f6e7bcf4e8428daa30f98a43a03c03",
       "version_major": 2,
       "version_minor": 0
      },
      "text/plain": [
       "Evaluating Validation Set:   0%|          | 0/165 [00:00<?, ?it/s]"
      ]
     },
     "metadata": {},
     "output_type": "display_data"
    },
    {
     "data": {
      "application/vnd.jupyter.widget-view+json": {
       "model_id": "3f18be9c12924603b3d3f45d21f7f56f",
       "version_major": 2,
       "version_minor": 0
      },
      "text/plain": [
       "Training:   0%|          | 0/1477 [00:00<?, ?it/s]"
      ]
     },
     "metadata": {},
     "output_type": "display_data"
    },
    {
     "data": {
      "application/vnd.jupyter.widget-view+json": {
       "model_id": "bcd399574b564ea4a9db29c204cb67a9",
       "version_major": 2,
       "version_minor": 0
      },
      "text/plain": [
       "Evaluating Train Set:   0%|          | 0/1477 [00:00<?, ?it/s]"
      ]
     },
     "metadata": {},
     "output_type": "display_data"
    },
    {
     "data": {
      "application/vnd.jupyter.widget-view+json": {
       "model_id": "ce5d8231a1c549679e21d8946d982cf7",
       "version_major": 2,
       "version_minor": 0
      },
      "text/plain": [
       "Evaluating Validation Set:   0%|          | 0/165 [00:00<?, ?it/s]"
      ]
     },
     "metadata": {},
     "output_type": "display_data"
    },
    {
     "data": {
      "application/vnd.jupyter.widget-view+json": {
       "model_id": "efb979cd6f2a42b185eaa1e8fdae5052",
       "version_major": 2,
       "version_minor": 0
      },
      "text/plain": [
       "Training:   0%|          | 0/1477 [00:00<?, ?it/s]"
      ]
     },
     "metadata": {},
     "output_type": "display_data"
    },
    {
     "data": {
      "application/vnd.jupyter.widget-view+json": {
       "model_id": "1a5b45262e7948d4b1a889c1efbabf3b",
       "version_major": 2,
       "version_minor": 0
      },
      "text/plain": [
       "Evaluating Train Set:   0%|          | 0/1477 [00:00<?, ?it/s]"
      ]
     },
     "metadata": {},
     "output_type": "display_data"
    },
    {
     "data": {
      "application/vnd.jupyter.widget-view+json": {
       "model_id": "11f072a6a58b4e8b89bc00eeb1f06ec2",
       "version_major": 2,
       "version_minor": 0
      },
      "text/plain": [
       "Evaluating Validation Set:   0%|          | 0/165 [00:00<?, ?it/s]"
      ]
     },
     "metadata": {},
     "output_type": "display_data"
    },
    {
     "data": {
      "application/vnd.jupyter.widget-view+json": {
       "model_id": "e6d58e2e0a93452a9b1965e2ae63ef41",
       "version_major": 2,
       "version_minor": 0
      },
      "text/plain": [
       "Training:   0%|          | 0/1477 [00:00<?, ?it/s]"
      ]
     },
     "metadata": {},
     "output_type": "display_data"
    },
    {
     "data": {
      "application/vnd.jupyter.widget-view+json": {
       "model_id": "499dc90c527c48fb8cdd030b6c935cce",
       "version_major": 2,
       "version_minor": 0
      },
      "text/plain": [
       "Evaluating Train Set:   0%|          | 0/1477 [00:00<?, ?it/s]"
      ]
     },
     "metadata": {},
     "output_type": "display_data"
    },
    {
     "data": {
      "application/vnd.jupyter.widget-view+json": {
       "model_id": "8360cce065ed488fb75861134c1ec1a6",
       "version_major": 2,
       "version_minor": 0
      },
      "text/plain": [
       "Evaluating Validation Set:   0%|          | 0/165 [00:00<?, ?it/s]"
      ]
     },
     "metadata": {},
     "output_type": "display_data"
    },
    {
     "data": {
      "application/vnd.jupyter.widget-view+json": {
       "model_id": "a6976044f6a74ac68b1470ce03dc4fce",
       "version_major": 2,
       "version_minor": 0
      },
      "text/plain": [
       "Training:   0%|          | 0/1477 [00:00<?, ?it/s]"
      ]
     },
     "metadata": {},
     "output_type": "display_data"
    },
    {
     "data": {
      "application/vnd.jupyter.widget-view+json": {
       "model_id": "9200ef40852746bc9552a90312170acb",
       "version_major": 2,
       "version_minor": 0
      },
      "text/plain": [
       "Evaluating Train Set:   0%|          | 0/1477 [00:00<?, ?it/s]"
      ]
     },
     "metadata": {},
     "output_type": "display_data"
    },
    {
     "data": {
      "application/vnd.jupyter.widget-view+json": {
       "model_id": "6abf57b937c3448e8bace787452aa4c5",
       "version_major": 2,
       "version_minor": 0
      },
      "text/plain": [
       "Evaluating Validation Set:   0%|          | 0/165 [00:00<?, ?it/s]"
      ]
     },
     "metadata": {},
     "output_type": "display_data"
    },
    {
     "data": {
      "application/vnd.jupyter.widget-view+json": {
       "model_id": "934b4493c85e48eda0ab735be02a3559",
       "version_major": 2,
       "version_minor": 0
      },
      "text/plain": [
       "Training:   0%|          | 0/1477 [00:00<?, ?it/s]"
      ]
     },
     "metadata": {},
     "output_type": "display_data"
    },
    {
     "data": {
      "application/vnd.jupyter.widget-view+json": {
       "model_id": "e19371e5a9d8482186a700384f4a337b",
       "version_major": 2,
       "version_minor": 0
      },
      "text/plain": [
       "Evaluating Train Set:   0%|          | 0/1477 [00:00<?, ?it/s]"
      ]
     },
     "metadata": {},
     "output_type": "display_data"
    },
    {
     "data": {
      "application/vnd.jupyter.widget-view+json": {
       "model_id": "c674ea5d9d584505abe35dd8e7ce68bb",
       "version_major": 2,
       "version_minor": 0
      },
      "text/plain": [
       "Evaluating Validation Set:   0%|          | 0/165 [00:00<?, ?it/s]"
      ]
     },
     "metadata": {},
     "output_type": "display_data"
    },
    {
     "data": {
      "application/vnd.jupyter.widget-view+json": {
       "model_id": "7ecd47fd548c47bb9a9757882726f007",
       "version_major": 2,
       "version_minor": 0
      },
      "text/plain": [
       "Training:   0%|          | 0/1477 [00:00<?, ?it/s]"
      ]
     },
     "metadata": {},
     "output_type": "display_data"
    },
    {
     "data": {
      "application/vnd.jupyter.widget-view+json": {
       "model_id": "9e9e46f6969b4f74b7a6b64339824605",
       "version_major": 2,
       "version_minor": 0
      },
      "text/plain": [
       "Evaluating Train Set:   0%|          | 0/1477 [00:00<?, ?it/s]"
      ]
     },
     "metadata": {},
     "output_type": "display_data"
    },
    {
     "data": {
      "application/vnd.jupyter.widget-view+json": {
       "model_id": "f820987f73b8463e9ea3cd63e71f056f",
       "version_major": 2,
       "version_minor": 0
      },
      "text/plain": [
       "Evaluating Validation Set:   0%|          | 0/165 [00:00<?, ?it/s]"
      ]
     },
     "metadata": {},
     "output_type": "display_data"
    },
    {
     "data": {
      "application/vnd.jupyter.widget-view+json": {
       "model_id": "de5178be192b4842bda92e3ed60ef9d4",
       "version_major": 2,
       "version_minor": 0
      },
      "text/plain": [
       "Training:   0%|          | 0/1477 [00:00<?, ?it/s]"
      ]
     },
     "metadata": {},
     "output_type": "display_data"
    },
    {
     "data": {
      "application/vnd.jupyter.widget-view+json": {
       "model_id": "bb420bb024de447f8b1bee8dc6cb5205",
       "version_major": 2,
       "version_minor": 0
      },
      "text/plain": [
       "Evaluating Train Set:   0%|          | 0/1477 [00:00<?, ?it/s]"
      ]
     },
     "metadata": {},
     "output_type": "display_data"
    },
    {
     "data": {
      "application/vnd.jupyter.widget-view+json": {
       "model_id": "9b2fb9dc1a5b45a4a61521f1584f3d58",
       "version_major": 2,
       "version_minor": 0
      },
      "text/plain": [
       "Evaluating Validation Set:   0%|          | 0/165 [00:00<?, ?it/s]"
      ]
     },
     "metadata": {},
     "output_type": "display_data"
    },
    {
     "data": {
      "application/vnd.jupyter.widget-view+json": {
       "model_id": "2c625c9b6f234563a394e68ca1699b4b",
       "version_major": 2,
       "version_minor": 0
      },
      "text/plain": [
       "Training:   0%|          | 0/1477 [00:00<?, ?it/s]"
      ]
     },
     "metadata": {},
     "output_type": "display_data"
    },
    {
     "data": {
      "application/vnd.jupyter.widget-view+json": {
       "model_id": "a1ae66540df54e1585f52e552bf78c8a",
       "version_major": 2,
       "version_minor": 0
      },
      "text/plain": [
       "Evaluating Train Set:   0%|          | 0/1477 [00:00<?, ?it/s]"
      ]
     },
     "metadata": {},
     "output_type": "display_data"
    },
    {
     "data": {
      "application/vnd.jupyter.widget-view+json": {
       "model_id": "21d96a50e3024b128eead3a49245ea74",
       "version_major": 2,
       "version_minor": 0
      },
      "text/plain": [
       "Evaluating Validation Set:   0%|          | 0/165 [00:00<?, ?it/s]"
      ]
     },
     "metadata": {},
     "output_type": "display_data"
    },
    {
     "data": {
      "application/vnd.jupyter.widget-view+json": {
       "model_id": "c2c01c1bf4b247d69fdb0c09b6b7c35f",
       "version_major": 2,
       "version_minor": 0
      },
      "text/plain": [
       "Training:   0%|          | 0/1477 [00:00<?, ?it/s]"
      ]
     },
     "metadata": {},
     "output_type": "display_data"
    },
    {
     "data": {
      "application/vnd.jupyter.widget-view+json": {
       "model_id": "65c18e1c45c44ba4a21c421bb6885864",
       "version_major": 2,
       "version_minor": 0
      },
      "text/plain": [
       "Evaluating Train Set:   0%|          | 0/1477 [00:00<?, ?it/s]"
      ]
     },
     "metadata": {},
     "output_type": "display_data"
    },
    {
     "data": {
      "application/vnd.jupyter.widget-view+json": {
       "model_id": "e236e063946547179f2a8d22f2d567d7",
       "version_major": 2,
       "version_minor": 0
      },
      "text/plain": [
       "Evaluating Validation Set:   0%|          | 0/165 [00:00<?, ?it/s]"
      ]
     },
     "metadata": {},
     "output_type": "display_data"
    },
    {
     "data": {
      "application/vnd.jupyter.widget-view+json": {
       "model_id": "19488fad9d864c5b8fe3df1c1bc5010f",
       "version_major": 2,
       "version_minor": 0
      },
      "text/plain": [
       "Training:   0%|          | 0/1477 [00:00<?, ?it/s]"
      ]
     },
     "metadata": {},
     "output_type": "display_data"
    },
    {
     "data": {
      "application/vnd.jupyter.widget-view+json": {
       "model_id": "50f499174bec48bd91262ebcd03e592a",
       "version_major": 2,
       "version_minor": 0
      },
      "text/plain": [
       "Evaluating Train Set:   0%|          | 0/1477 [00:00<?, ?it/s]"
      ]
     },
     "metadata": {},
     "output_type": "display_data"
    },
    {
     "data": {
      "application/vnd.jupyter.widget-view+json": {
       "model_id": "17deef97192e40e6a34a8277a162fc41",
       "version_major": 2,
       "version_minor": 0
      },
      "text/plain": [
       "Evaluating Validation Set:   0%|          | 0/165 [00:00<?, ?it/s]"
      ]
     },
     "metadata": {},
     "output_type": "display_data"
    },
    {
     "data": {
      "application/vnd.jupyter.widget-view+json": {
       "model_id": "40692a39dd4245148a8e288f01f55763",
       "version_major": 2,
       "version_minor": 0
      },
      "text/plain": [
       "Training:   0%|          | 0/1477 [00:00<?, ?it/s]"
      ]
     },
     "metadata": {},
     "output_type": "display_data"
    },
    {
     "data": {
      "application/vnd.jupyter.widget-view+json": {
       "model_id": "9d9e6c1d2a1a481a90bdd6ef2740b4e8",
       "version_major": 2,
       "version_minor": 0
      },
      "text/plain": [
       "Evaluating Train Set:   0%|          | 0/1477 [00:00<?, ?it/s]"
      ]
     },
     "metadata": {},
     "output_type": "display_data"
    },
    {
     "data": {
      "application/vnd.jupyter.widget-view+json": {
       "model_id": "9a55e0fe7cf84c16a2c77bc510a4d57f",
       "version_major": 2,
       "version_minor": 0
      },
      "text/plain": [
       "Evaluating Validation Set:   0%|          | 0/165 [00:00<?, ?it/s]"
      ]
     },
     "metadata": {},
     "output_type": "display_data"
    },
    {
     "data": {
      "application/vnd.jupyter.widget-view+json": {
       "model_id": "b00ff47bbe634a51bcd8e69ebf2f9dad",
       "version_major": 2,
       "version_minor": 0
      },
      "text/plain": [
       "Training:   0%|          | 0/1477 [00:00<?, ?it/s]"
      ]
     },
     "metadata": {},
     "output_type": "display_data"
    },
    {
     "data": {
      "application/vnd.jupyter.widget-view+json": {
       "model_id": "1e1842f84ce045d4a1c1705ed1e6297f",
       "version_major": 2,
       "version_minor": 0
      },
      "text/plain": [
       "Evaluating Train Set:   0%|          | 0/1477 [00:00<?, ?it/s]"
      ]
     },
     "metadata": {},
     "output_type": "display_data"
    },
    {
     "data": {
      "application/vnd.jupyter.widget-view+json": {
       "model_id": "e0daeed9c7794daba9193bc51605578d",
       "version_major": 2,
       "version_minor": 0
      },
      "text/plain": [
       "Evaluating Validation Set:   0%|          | 0/165 [00:00<?, ?it/s]"
      ]
     },
     "metadata": {},
     "output_type": "display_data"
    },
    {
     "data": {
      "application/vnd.jupyter.widget-view+json": {
       "model_id": "c10a4521de8f4553965135415582a620",
       "version_major": 2,
       "version_minor": 0
      },
      "text/plain": [
       "Training:   0%|          | 0/1477 [00:00<?, ?it/s]"
      ]
     },
     "metadata": {},
     "output_type": "display_data"
    },
    {
     "data": {
      "application/vnd.jupyter.widget-view+json": {
       "model_id": "32de590a6c994a7cb17eb90da72c1ae6",
       "version_major": 2,
       "version_minor": 0
      },
      "text/plain": [
       "Evaluating Train Set:   0%|          | 0/1477 [00:00<?, ?it/s]"
      ]
     },
     "metadata": {},
     "output_type": "display_data"
    },
    {
     "data": {
      "application/vnd.jupyter.widget-view+json": {
       "model_id": "9f30edfcb4f045b591497af062a23650",
       "version_major": 2,
       "version_minor": 0
      },
      "text/plain": [
       "Evaluating Validation Set:   0%|          | 0/165 [00:00<?, ?it/s]"
      ]
     },
     "metadata": {},
     "output_type": "display_data"
    },
    {
     "data": {
      "application/vnd.jupyter.widget-view+json": {
       "model_id": "a602711f3bfb41d9ad711552819d1286",
       "version_major": 2,
       "version_minor": 0
      },
      "text/plain": [
       "Training:   0%|          | 0/1477 [00:00<?, ?it/s]"
      ]
     },
     "metadata": {},
     "output_type": "display_data"
    },
    {
     "data": {
      "application/vnd.jupyter.widget-view+json": {
       "model_id": "c70c1502c6124833813e38585f768437",
       "version_major": 2,
       "version_minor": 0
      },
      "text/plain": [
       "Evaluating Train Set:   0%|          | 0/1477 [00:00<?, ?it/s]"
      ]
     },
     "metadata": {},
     "output_type": "display_data"
    },
    {
     "data": {
      "application/vnd.jupyter.widget-view+json": {
       "model_id": "aa82d661dfb147c48fb47456069bade7",
       "version_major": 2,
       "version_minor": 0
      },
      "text/plain": [
       "Evaluating Validation Set:   0%|          | 0/165 [00:00<?, ?it/s]"
      ]
     },
     "metadata": {},
     "output_type": "display_data"
    },
    {
     "data": {
      "application/vnd.jupyter.widget-view+json": {
       "model_id": "d8f1a1aa30494fd89ec389611a5ffe15",
       "version_major": 2,
       "version_minor": 0
      },
      "text/plain": [
       "Training:   0%|          | 0/1477 [00:00<?, ?it/s]"
      ]
     },
     "metadata": {},
     "output_type": "display_data"
    },
    {
     "data": {
      "application/vnd.jupyter.widget-view+json": {
       "model_id": "668082adcc9d4a38aaade95b590db874",
       "version_major": 2,
       "version_minor": 0
      },
      "text/plain": [
       "Evaluating Train Set:   0%|          | 0/1477 [00:00<?, ?it/s]"
      ]
     },
     "metadata": {},
     "output_type": "display_data"
    },
    {
     "data": {
      "application/vnd.jupyter.widget-view+json": {
       "model_id": "7a6e49b5622e4f30a353c7cac040ef71",
       "version_major": 2,
       "version_minor": 0
      },
      "text/plain": [
       "Evaluating Validation Set:   0%|          | 0/165 [00:00<?, ?it/s]"
      ]
     },
     "metadata": {},
     "output_type": "display_data"
    },
    {
     "data": {
      "application/vnd.jupyter.widget-view+json": {
       "model_id": "185afc169694464b80ae0e4f135992b3",
       "version_major": 2,
       "version_minor": 0
      },
      "text/plain": [
       "Training:   0%|          | 0/1477 [00:00<?, ?it/s]"
      ]
     },
     "metadata": {},
     "output_type": "display_data"
    },
    {
     "data": {
      "application/vnd.jupyter.widget-view+json": {
       "model_id": "cd06b23269b64ade85f7431969a6b4fc",
       "version_major": 2,
       "version_minor": 0
      },
      "text/plain": [
       "Evaluating Train Set:   0%|          | 0/1477 [00:00<?, ?it/s]"
      ]
     },
     "metadata": {},
     "output_type": "display_data"
    },
    {
     "data": {
      "application/vnd.jupyter.widget-view+json": {
       "model_id": "1284f01ef51b41a084eb869306d93d53",
       "version_major": 2,
       "version_minor": 0
      },
      "text/plain": [
       "Evaluating Validation Set:   0%|          | 0/165 [00:00<?, ?it/s]"
      ]
     },
     "metadata": {},
     "output_type": "display_data"
    },
    {
     "name": "stdout",
     "output_type": "stream",
     "text": [
      "Highest validation accuracy: 85.13%\n",
      "Training time: 5646.82 seconds\n"
     ]
    }
   ],
   "source": [
    "start_time = time.time()\n",
    "model_trainer.run_training(n_epochs=n_epochs)\n",
    "end_time = time.time()\n",
    "\n",
    "print(f'Highest validation accuracy: {100*model_trainer.best_valid_acc:.2f}%')\n",
    "print(f'Training time: {(end_time - start_time):.2f} seconds')"
   ]
  },
  {
   "cell_type": "code",
   "execution_count": 29,
   "metadata": {},
   "outputs": [
    {
     "data": {
      "image/png": "[encoded data removed]",
      "text/plain": [
       "<Figure size 640x480 with 1 Axes>"
      ]
     },
     "metadata": {},
     "output_type": "display_data"
    }
   ],
   "source": [
    "x_epoch = np.linspace(0, n_epochs, len(model_trainer.train_loss_logger))\n",
    "plt.axhline(y=0, ls='--', color='k', lw=1)\n",
    "plt.plot(x_epoch, model_trainer.train_loss_logger, lw=1)\n",
    "\n",
    "xticks_format = plt.FuncFormatter(lambda y, pos: f'{int(y)}')\n",
    "plt.gca().xaxis.set_major_formatter(xticks_format)\n",
    "plt.xlabel('Epoch')\n",
    "plt.ylabel('Training loss')\n",
    "plt.title(model_name.replace('_', ' '), fontsize=15)\n",
    "plt.show()"
   ]
  },
  {
   "cell_type": "code",
   "execution_count": 30,
   "metadata": {},
   "outputs": [
    {
     "data": {
      "application/vnd.jupyter.widget-view+json": {
       "model_id": "6fcdf270e57047fa913cb155a45054af",
       "version_major": 2,
       "version_minor": 0
      },
      "text/plain": [
       "Evaluating Test Set:   0%|          | 0/125 [00:00<?, ?it/s]"
      ]
     },
     "metadata": {},
     "output_type": "display_data"
    },
    {
     "data": {
      "image/png": "[encoded data removed]",
      "text/plain": [
       "<Figure size 640x480 with 1 Axes>"
      ]
     },
     "metadata": {},
     "output_type": "display_data"
    }
   ],
   "source": [
    "x_epoch = np.linspace(0, n_epochs, len(model_trainer.train_acc_logger))\n",
    "plt.plot(x_epoch, model_trainer.train_acc_logger, marker='o', label='Training accuracy')\n",
    "\n",
    "x_epoch = np.linspace(0, n_epochs, len(model_trainer.val_acc_logger))\n",
    "plt.plot(x_epoch, model_trainer.val_acc_logger, marker='o', label='Validation accuracy')\n",
    "\n",
    "testing_accuracy = model_trainer.evaluate_model(train_test_val='test')\n",
    "plt.axhline(y=testing_accuracy, color=[0, 0.6, 0], ls='--', lw=1, label='Testing accuracy')\n",
    "plt.text(0, 1.01*testing_accuracy, f'{100*testing_accuracy:.2f}%', color=[0, 0.6, 0], va='bottom')\n",
    "\n",
    "plt.ylim([0, 1])\n",
    "xticks_format = plt.FuncFormatter(lambda y, pos: f'{int(y)}')\n",
    "plt.gca().xaxis.set_major_formatter(xticks_format)\n",
    "plt.xlabel('Epoch')\n",
    "plt.legend(loc = 'lower right')\n",
    "plt.title(model_name.replace('_', ' '), fontsize=15)\n",
    "plt.show()"
   ]
  },
  {
   "cell_type": "markdown",
   "metadata": {},
   "source": [
    "## Training on real labels"
   ]
  },
  {
   "cell_type": "code",
   "execution_count": 39,
   "metadata": {},
   "outputs": [
    {
     "name": "stdout",
     "output_type": "stream",
     "text": [
      "Files already downloaded and verified\n",
      "Files already downloaded and verified\n"
     ]
    }
   ],
   "source": [
    "# General image information\n",
    "classes = ('plane', 'bird', 'car', 'cat', 'deer',\n",
    "           'dog', 'horse', 'monkey', 'ship', 'truck')\n",
    "n_classes = len(classes)\n",
    "\n",
    "# Image transform\n",
    "data_mean = [0.485, 0.456, 0.406]\n",
    "data_std = [0.229, 0.224, 0.225]\n",
    "transform = transforms.Compose(\n",
    "    [transforms.Resize(pixel_size),\n",
    "     transforms.ToTensor(),\n",
    "     transforms.Normalize(data_mean, data_std)]\n",
    ")\n",
    "\n",
    "# Loading MNIST dataset of handwritten digits\n",
    "train_data = datasets.STL10(data_dir,\n",
    "                            split='train',\n",
    "                            download=True,\n",
    "                            transform=transform)\n",
    "test_data = datasets.STL10(data_dir,\n",
    "                           split='test',\n",
    "                           download=True,\n",
    "                           transform=transform)\n",
    "\n",
    "# Let us split the training set into train and validation sets\n",
    "train_size = 0.9\n",
    "n_samples_train = int(len(train_data)*train_size)\n",
    "n_samples_val = len(train_data) - n_samples_train\n",
    "train_data, val_data \\\n",
    "    = torch.utils.data.random_split(train_data,\n",
    "                                    [n_samples_train, n_samples_val],\n",
    "                                    generator=torch.Generator().manual_seed(42))"
   ]
  },
  {
   "cell_type": "code",
   "execution_count": 40,
   "metadata": {},
   "outputs": [
    {
     "name": "stdout",
     "output_type": "stream",
     "text": [
      "Checkpoint loaded, starting from epoch: 29\n",
      "This model has 11_181_642 parameters\n"
     ]
    }
   ],
   "source": [
    "# Load previous model and create new model from it\n",
    "model_trainer = ModelTrainer(model=res_net,\n",
    "                             device=device,\n",
    "                             loss_fun=nn.CrossEntropyLoss(),\n",
    "                             batch_size=batch_size,\n",
    "                             learning_rate=learning_rate,\n",
    "                             save_dir=model_dir,\n",
    "                             model_name=model_name,\n",
    "                             start_from_checkpoint=True)\n",
    "\n",
    "model_name = model_name + '_pretrained'\n",
    "model = deepcopy(model_trainer.model.to('cpu')).to(device)\n",
    "\n",
    "n_features = model.fc.in_features\n",
    "model.fc = nn.Linear(n_features, n_classes).to(device)\n",
    "\n",
    "# Number of parameters\n",
    "n_params = 0\n",
    "for param in model.parameters():\n",
    "    n_params += param.flatten().shape[0]\n",
    "print(f'This model has {n_params:_} parameters')"
   ]
  },
  {
   "cell_type": "code",
   "execution_count": 41,
   "metadata": {},
   "outputs": [
    {
     "name": "stdout",
     "output_type": "stream",
     "text": [
      "Starting from scratch\n",
      "Number of training examples: 4500\n",
      "Number of validation examples: 500\n",
      "Number of testing examples: 8000\n"
     ]
    }
   ],
   "source": [
    "# Set up model trainer\n",
    "batch_size = 64\n",
    "n_epochs = 30\n",
    "learning_rate = 1e-4\n",
    "start_from_checkpoint = False\n",
    "\n",
    "model_trainer = ModelTrainer(model=model,\n",
    "                             device=device,\n",
    "                             loss_fun=nn.CrossEntropyLoss(),\n",
    "                             batch_size=batch_size,\n",
    "                             learning_rate=learning_rate,\n",
    "                             save_dir=model_dir,\n",
    "                             model_name=model_name,\n",
    "                             start_from_checkpoint=start_from_checkpoint)\n",
    "\n",
    "# Set up data\n",
    "model_trainer.set_data(train_set=train_data,\n",
    "                       val_set=val_data,\n",
    "                       test_set=test_data)\n",
    "\n",
    "# Learning-rate scheduler\n",
    "lr_scheduler = optim.lr_scheduler.CosineAnnealingLR(model_trainer.optimizer,\n",
    "                                                    T_max=n_epochs,\n",
    "                                                    eta_min=0)\n",
    "model_trainer.set_lr_schedule(lr_scheduler)"
   ]
  },
  {
   "cell_type": "code",
   "execution_count": 42,
   "metadata": {},
   "outputs": [
    {
     "data": {
      "application/vnd.jupyter.widget-view+json": {
       "model_id": "e2c7cc1fc41541fd9b6380e3db3459ed",
       "version_major": 2,
       "version_minor": 0
      },
      "text/plain": [
       "Epoch:   0%|          | 0/30 [00:00<?, ?it/s]"
      ]
     },
     "metadata": {},
     "output_type": "display_data"
    },
    {
     "data": {
      "application/vnd.jupyter.widget-view+json": {
       "model_id": "3923bc252e1e489ea8b75b4bcb9f1622",
       "version_major": 2,
       "version_minor": 0
      },
      "text/plain": [
       "Training:   0%|          | 0/71 [00:00<?, ?it/s]"
      ]
     },
     "metadata": {},
     "output_type": "display_data"
    },
    {
     "data": {
      "application/vnd.jupyter.widget-view+json": {
       "model_id": "4400157765a84c1fa339ca69f5a625fd",
       "version_major": 2,
       "version_minor": 0
      },
      "text/plain": [
       "Evaluating Train Set:   0%|          | 0/71 [00:00<?, ?it/s]"
      ]
     },
     "metadata": {},
     "output_type": "display_data"
    },
    {
     "data": {
      "application/vnd.jupyter.widget-view+json": {
       "model_id": "1d56cfae25c44e9e808ea26f317811e7",
       "version_major": 2,
       "version_minor": 0
      },
      "text/plain": [
       "Evaluating Validation Set:   0%|          | 0/8 [00:00<?, ?it/s]"
      ]
     },
     "metadata": {},
     "output_type": "display_data"
    },
    {
     "data": {
      "application/vnd.jupyter.widget-view+json": {
       "model_id": "fe55f649a00c4ffd964f3ddc17d6a341",
       "version_major": 2,
       "version_minor": 0
      },
      "text/plain": [
       "Training:   0%|          | 0/71 [00:00<?, ?it/s]"
      ]
     },
     "metadata": {},
     "output_type": "display_data"
    },
    {
     "data": {
      "application/vnd.jupyter.widget-view+json": {
       "model_id": "09dde6ff362b45d6b4e37ec06835df69",
       "version_major": 2,
       "version_minor": 0
      },
      "text/plain": [
       "Evaluating Train Set:   0%|          | 0/71 [00:00<?, ?it/s]"
      ]
     },
     "metadata": {},
     "output_type": "display_data"
    },
    {
     "data": {
      "application/vnd.jupyter.widget-view+json": {
       "model_id": "4fd882d11ca745d59350bbd0d5fe963c",
       "version_major": 2,
       "version_minor": 0
      },
      "text/plain": [
       "Evaluating Validation Set:   0%|          | 0/8 [00:00<?, ?it/s]"
      ]
     },
     "metadata": {},
     "output_type": "display_data"
    },
    {
     "data": {
      "application/vnd.jupyter.widget-view+json": {
       "model_id": "a12a9e94dba840e899646f94ba480b4e",
       "version_major": 2,
       "version_minor": 0
      },
      "text/plain": [
       "Training:   0%|          | 0/71 [00:00<?, ?it/s]"
      ]
     },
     "metadata": {},
     "output_type": "display_data"
    },
    {
     "data": {
      "application/vnd.jupyter.widget-view+json": {
       "model_id": "eca5ae5493bb4944b571e9137d0b624a",
       "version_major": 2,
       "version_minor": 0
      },
      "text/plain": [
       "Evaluating Train Set:   0%|          | 0/71 [00:00<?, ?it/s]"
      ]
     },
     "metadata": {},
     "output_type": "display_data"
    },
    {
     "data": {
      "application/vnd.jupyter.widget-view+json": {
       "model_id": "7966f30f8e9e4e4986327c8c73ea5f6b",
       "version_major": 2,
       "version_minor": 0
      },
      "text/plain": [
       "Evaluating Validation Set:   0%|          | 0/8 [00:00<?, ?it/s]"
      ]
     },
     "metadata": {},
     "output_type": "display_data"
    },
    {
     "data": {
      "application/vnd.jupyter.widget-view+json": {
       "model_id": "580920ff6d3a467da9fde6c6229c7439",
       "version_major": 2,
       "version_minor": 0
      },
      "text/plain": [
       "Training:   0%|          | 0/71 [00:00<?, ?it/s]"
      ]
     },
     "metadata": {},
     "output_type": "display_data"
    },
    {
     "data": {
      "application/vnd.jupyter.widget-view+json": {
       "model_id": "803b211fa5f44ca0b54395b9bb885e1b",
       "version_major": 2,
       "version_minor": 0
      },
      "text/plain": [
       "Evaluating Train Set:   0%|          | 0/71 [00:00<?, ?it/s]"
      ]
     },
     "metadata": {},
     "output_type": "display_data"
    },
    {
     "data": {
      "application/vnd.jupyter.widget-view+json": {
       "model_id": "d05b68ed27ad41d3b752fe57b185e744",
       "version_major": 2,
       "version_minor": 0
      },
      "text/plain": [
       "Evaluating Validation Set:   0%|          | 0/8 [00:00<?, ?it/s]"
      ]
     },
     "metadata": {},
     "output_type": "display_data"
    },
    {
     "data": {
      "application/vnd.jupyter.widget-view+json": {
       "model_id": "aac5b79ecb8f40eb9185a09af6000013",
       "version_major": 2,
       "version_minor": 0
      },
      "text/plain": [
       "Training:   0%|          | 0/71 [00:00<?, ?it/s]"
      ]
     },
     "metadata": {},
     "output_type": "display_data"
    },
    {
     "data": {
      "application/vnd.jupyter.widget-view+json": {
       "model_id": "c09252d53c9e4d03aa26f806357898d3",
       "version_major": 2,
       "version_minor": 0
      },
      "text/plain": [
       "Evaluating Train Set:   0%|          | 0/71 [00:00<?, ?it/s]"
      ]
     },
     "metadata": {},
     "output_type": "display_data"
    },
    {
     "data": {
      "application/vnd.jupyter.widget-view+json": {
       "model_id": "74d1f4ba7f5545bbaf3536b846a90fe7",
       "version_major": 2,
       "version_minor": 0
      },
      "text/plain": [
       "Evaluating Validation Set:   0%|          | 0/8 [00:00<?, ?it/s]"
      ]
     },
     "metadata": {},
     "output_type": "display_data"
    },
    {
     "data": {
      "application/vnd.jupyter.widget-view+json": {
       "model_id": "21e889c06b5d40149ecca7d1680fab6f",
       "version_major": 2,
       "version_minor": 0
      },
      "text/plain": [
       "Training:   0%|          | 0/71 [00:00<?, ?it/s]"
      ]
     },
     "metadata": {},
     "output_type": "display_data"
    },
    {
     "data": {
      "application/vnd.jupyter.widget-view+json": {
       "model_id": "bf1ca1683174493787ebb5baac1a70fb",
       "version_major": 2,
       "version_minor": 0
      },
      "text/plain": [
       "Evaluating Train Set:   0%|          | 0/71 [00:00<?, ?it/s]"
      ]
     },
     "metadata": {},
     "output_type": "display_data"
    },
    {
     "data": {
      "application/vnd.jupyter.widget-view+json": {
       "model_id": "233ede422b7c49c0892b455c562bc7e3",
       "version_major": 2,
       "version_minor": 0
      },
      "text/plain": [
       "Evaluating Validation Set:   0%|          | 0/8 [00:00<?, ?it/s]"
      ]
     },
     "metadata": {},
     "output_type": "display_data"
    },
    {
     "data": {
      "application/vnd.jupyter.widget-view+json": {
       "model_id": "212e53fbb07c4b378ff82f9911dac94b",
       "version_major": 2,
       "version_minor": 0
      },
      "text/plain": [
       "Training:   0%|          | 0/71 [00:00<?, ?it/s]"
      ]
     },
     "metadata": {},
     "output_type": "display_data"
    },
    {
     "data": {
      "application/vnd.jupyter.widget-view+json": {
       "model_id": "96a585a12f79445a923d28750a0b1873",
       "version_major": 2,
       "version_minor": 0
      },
      "text/plain": [
       "Evaluating Train Set:   0%|          | 0/71 [00:00<?, ?it/s]"
      ]
     },
     "metadata": {},
     "output_type": "display_data"
    },
    {
     "data": {
      "application/vnd.jupyter.widget-view+json": {
       "model_id": "5728043525704769ac6ee3d3286aaf11",
       "version_major": 2,
       "version_minor": 0
      },
      "text/plain": [
       "Evaluating Validation Set:   0%|          | 0/8 [00:00<?, ?it/s]"
      ]
     },
     "metadata": {},
     "output_type": "display_data"
    },
    {
     "data": {
      "application/vnd.jupyter.widget-view+json": {
       "model_id": "ce42ab9dde2746fe88bdc44e0a7e3d4f",
       "version_major": 2,
       "version_minor": 0
      },
      "text/plain": [
       "Training:   0%|          | 0/71 [00:00<?, ?it/s]"
      ]
     },
     "metadata": {},
     "output_type": "display_data"
    },
    {
     "data": {
      "application/vnd.jupyter.widget-view+json": {
       "model_id": "549b272c7b2f47e0a0c2ffcfb6be78c9",
       "version_major": 2,
       "version_minor": 0
      },
      "text/plain": [
       "Evaluating Train Set:   0%|          | 0/71 [00:00<?, ?it/s]"
      ]
     },
     "metadata": {},
     "output_type": "display_data"
    },
    {
     "data": {
      "application/vnd.jupyter.widget-view+json": {
       "model_id": "542aac13b60f465981950810670a17bf",
       "version_major": 2,
       "version_minor": 0
      },
      "text/plain": [
       "Evaluating Validation Set:   0%|          | 0/8 [00:00<?, ?it/s]"
      ]
     },
     "metadata": {},
     "output_type": "display_data"
    },
    {
     "data": {
      "application/vnd.jupyter.widget-view+json": {
       "model_id": "83d5bb100dbc4eeca91a94196fb0bccb",
       "version_major": 2,
       "version_minor": 0
      },
      "text/plain": [
       "Training:   0%|          | 0/71 [00:00<?, ?it/s]"
      ]
     },
     "metadata": {},
     "output_type": "display_data"
    },
    {
     "data": {
      "application/vnd.jupyter.widget-view+json": {
       "model_id": "8b8463d686c84e538eddd0f0e72fa56c",
       "version_major": 2,
       "version_minor": 0
      },
      "text/plain": [
       "Evaluating Train Set:   0%|          | 0/71 [00:00<?, ?it/s]"
      ]
     },
     "metadata": {},
     "output_type": "display_data"
    },
    {
     "data": {
      "application/vnd.jupyter.widget-view+json": {
       "model_id": "2663c72e2f224d2f86512898f2f668c3",
       "version_major": 2,
       "version_minor": 0
      },
      "text/plain": [
       "Evaluating Validation Set:   0%|          | 0/8 [00:00<?, ?it/s]"
      ]
     },
     "metadata": {},
     "output_type": "display_data"
    },
    {
     "data": {
      "application/vnd.jupyter.widget-view+json": {
       "model_id": "10500aeb669d4a72b28ceeba2c713193",
       "version_major": 2,
       "version_minor": 0
      },
      "text/plain": [
       "Training:   0%|          | 0/71 [00:00<?, ?it/s]"
      ]
     },
     "metadata": {},
     "output_type": "display_data"
    },
    {
     "data": {
      "application/vnd.jupyter.widget-view+json": {
       "model_id": "9f4e16e69a0a43ddbc9bbaff74483be8",
       "version_major": 2,
       "version_minor": 0
      },
      "text/plain": [
       "Evaluating Train Set:   0%|          | 0/71 [00:00<?, ?it/s]"
      ]
     },
     "metadata": {},
     "output_type": "display_data"
    },
    {
     "data": {
      "application/vnd.jupyter.widget-view+json": {
       "model_id": "60982a8589cf4cf5bdd2ee710efc3f0a",
       "version_major": 2,
       "version_minor": 0
      },
      "text/plain": [
       "Evaluating Validation Set:   0%|          | 0/8 [00:00<?, ?it/s]"
      ]
     },
     "metadata": {},
     "output_type": "display_data"
    },
    {
     "data": {
      "application/vnd.jupyter.widget-view+json": {
       "model_id": "a35fe6284e3b4900be4386481f8f08af",
       "version_major": 2,
       "version_minor": 0
      },
      "text/plain": [
       "Training:   0%|          | 0/71 [00:00<?, ?it/s]"
      ]
     },
     "metadata": {},
     "output_type": "display_data"
    },
    {
     "data": {
      "application/vnd.jupyter.widget-view+json": {
       "model_id": "7b569c1e90de4702a0a3279905bf53c2",
       "version_major": 2,
       "version_minor": 0
      },
      "text/plain": [
       "Evaluating Train Set:   0%|          | 0/71 [00:00<?, ?it/s]"
      ]
     },
     "metadata": {},
     "output_type": "display_data"
    },
    {
     "data": {
      "application/vnd.jupyter.widget-view+json": {
       "model_id": "887293f68f3746fb9aca47f4fec00ac3",
       "version_major": 2,
       "version_minor": 0
      },
      "text/plain": [
       "Evaluating Validation Set:   0%|          | 0/8 [00:00<?, ?it/s]"
      ]
     },
     "metadata": {},
     "output_type": "display_data"
    },
    {
     "data": {
      "application/vnd.jupyter.widget-view+json": {
       "model_id": "f898dde196944a1fb83d5c55c1e8f9af",
       "version_major": 2,
       "version_minor": 0
      },
      "text/plain": [
       "Training:   0%|          | 0/71 [00:00<?, ?it/s]"
      ]
     },
     "metadata": {},
     "output_type": "display_data"
    },
    {
     "data": {
      "application/vnd.jupyter.widget-view+json": {
       "model_id": "7e61ae204f7545d086d34b911b47ba4a",
       "version_major": 2,
       "version_minor": 0
      },
      "text/plain": [
       "Evaluating Train Set:   0%|          | 0/71 [00:00<?, ?it/s]"
      ]
     },
     "metadata": {},
     "output_type": "display_data"
    },
    {
     "data": {
      "application/vnd.jupyter.widget-view+json": {
       "model_id": "ccbac503d65a48959517fccafa10a41c",
       "version_major": 2,
       "version_minor": 0
      },
      "text/plain": [
       "Evaluating Validation Set:   0%|          | 0/8 [00:00<?, ?it/s]"
      ]
     },
     "metadata": {},
     "output_type": "display_data"
    },
    {
     "data": {
      "application/vnd.jupyter.widget-view+json": {
       "model_id": "d5bc45c3415441e082356c40098dd221",
       "version_major": 2,
       "version_minor": 0
      },
      "text/plain": [
       "Training:   0%|          | 0/71 [00:00<?, ?it/s]"
      ]
     },
     "metadata": {},
     "output_type": "display_data"
    },
    {
     "data": {
      "application/vnd.jupyter.widget-view+json": {
       "model_id": "212d0af83a904945a4ffbbe19790c519",
       "version_major": 2,
       "version_minor": 0
      },
      "text/plain": [
       "Evaluating Train Set:   0%|          | 0/71 [00:00<?, ?it/s]"
      ]
     },
     "metadata": {},
     "output_type": "display_data"
    },
    {
     "data": {
      "application/vnd.jupyter.widget-view+json": {
       "model_id": "885fe3517f904b46b46f2d80c5d09abc",
       "version_major": 2,
       "version_minor": 0
      },
      "text/plain": [
       "Evaluating Validation Set:   0%|          | 0/8 [00:00<?, ?it/s]"
      ]
     },
     "metadata": {},
     "output_type": "display_data"
    },
    {
     "data": {
      "application/vnd.jupyter.widget-view+json": {
       "model_id": "ec7ba9bac9c5485f9256641da1c249ed",
       "version_major": 2,
       "version_minor": 0
      },
      "text/plain": [
       "Training:   0%|          | 0/71 [00:00<?, ?it/s]"
      ]
     },
     "metadata": {},
     "output_type": "display_data"
    },
    {
     "data": {
      "application/vnd.jupyter.widget-view+json": {
       "model_id": "ca4edbee76474b028d62f6e6cbe661b3",
       "version_major": 2,
       "version_minor": 0
      },
      "text/plain": [
       "Evaluating Train Set:   0%|          | 0/71 [00:00<?, ?it/s]"
      ]
     },
     "metadata": {},
     "output_type": "display_data"
    },
    {
     "data": {
      "application/vnd.jupyter.widget-view+json": {
       "model_id": "2e8eb5956b584d74a8d31881e12a257c",
       "version_major": 2,
       "version_minor": 0
      },
      "text/plain": [
       "Evaluating Validation Set:   0%|          | 0/8 [00:00<?, ?it/s]"
      ]
     },
     "metadata": {},
     "output_type": "display_data"
    },
    {
     "data": {
      "application/vnd.jupyter.widget-view+json": {
       "model_id": "0936abe1e3344e59b37067bd2cdf55ae",
       "version_major": 2,
       "version_minor": 0
      },
      "text/plain": [
       "Training:   0%|          | 0/71 [00:00<?, ?it/s]"
      ]
     },
     "metadata": {},
     "output_type": "display_data"
    },
    {
     "data": {
      "application/vnd.jupyter.widget-view+json": {
       "model_id": "7dc8037c803e44dc94c2fcfbe3d9bd1c",
       "version_major": 2,
       "version_minor": 0
      },
      "text/plain": [
       "Evaluating Train Set:   0%|          | 0/71 [00:00<?, ?it/s]"
      ]
     },
     "metadata": {},
     "output_type": "display_data"
    },
    {
     "data": {
      "application/vnd.jupyter.widget-view+json": {
       "model_id": "d54d25d11f9144c1a31feba0d66a59ab",
       "version_major": 2,
       "version_minor": 0
      },
      "text/plain": [
       "Evaluating Validation Set:   0%|          | 0/8 [00:00<?, ?it/s]"
      ]
     },
     "metadata": {},
     "output_type": "display_data"
    },
    {
     "data": {
      "application/vnd.jupyter.widget-view+json": {
       "model_id": "b274759452da44b5a6526fd0dea35b82",
       "version_major": 2,
       "version_minor": 0
      },
      "text/plain": [
       "Training:   0%|          | 0/71 [00:00<?, ?it/s]"
      ]
     },
     "metadata": {},
     "output_type": "display_data"
    },
    {
     "data": {
      "application/vnd.jupyter.widget-view+json": {
       "model_id": "ca91c35ad5814538804b5251513afa81",
       "version_major": 2,
       "version_minor": 0
      },
      "text/plain": [
       "Evaluating Train Set:   0%|          | 0/71 [00:00<?, ?it/s]"
      ]
     },
     "metadata": {},
     "output_type": "display_data"
    },
    {
     "data": {
      "application/vnd.jupyter.widget-view+json": {
       "model_id": "a969ca1fba834667bae2d71ab501549a",
       "version_major": 2,
       "version_minor": 0
      },
      "text/plain": [
       "Evaluating Validation Set:   0%|          | 0/8 [00:00<?, ?it/s]"
      ]
     },
     "metadata": {},
     "output_type": "display_data"
    },
    {
     "data": {
      "application/vnd.jupyter.widget-view+json": {
       "model_id": "fca39a53470a4f28b7d7923c9aec42ec",
       "version_major": 2,
       "version_minor": 0
      },
      "text/plain": [
       "Training:   0%|          | 0/71 [00:00<?, ?it/s]"
      ]
     },
     "metadata": {},
     "output_type": "display_data"
    },
    {
     "data": {
      "application/vnd.jupyter.widget-view+json": {
       "model_id": "74a1b13d57524182ba7fb59755de7fc2",
       "version_major": 2,
       "version_minor": 0
      },
      "text/plain": [
       "Evaluating Train Set:   0%|          | 0/71 [00:00<?, ?it/s]"
      ]
     },
     "metadata": {},
     "output_type": "display_data"
    },
    {
     "data": {
      "application/vnd.jupyter.widget-view+json": {
       "model_id": "82965848d7ac42689bdd8d60cb9509cf",
       "version_major": 2,
       "version_minor": 0
      },
      "text/plain": [
       "Evaluating Validation Set:   0%|          | 0/8 [00:00<?, ?it/s]"
      ]
     },
     "metadata": {},
     "output_type": "display_data"
    },
    {
     "data": {
      "application/vnd.jupyter.widget-view+json": {
       "model_id": "fbb643f27c7f43d38c9707c11db0e09f",
       "version_major": 2,
       "version_minor": 0
      },
      "text/plain": [
       "Training:   0%|          | 0/71 [00:00<?, ?it/s]"
      ]
     },
     "metadata": {},
     "output_type": "display_data"
    },
    {
     "data": {
      "application/vnd.jupyter.widget-view+json": {
       "model_id": "3794fd5e778946268797966638670595",
       "version_major": 2,
       "version_minor": 0
      },
      "text/plain": [
       "Evaluating Train Set:   0%|          | 0/71 [00:00<?, ?it/s]"
      ]
     },
     "metadata": {},
     "output_type": "display_data"
    },
    {
     "data": {
      "application/vnd.jupyter.widget-view+json": {
       "model_id": "d4414eabadf1492c9aea4d4802dc910e",
       "version_major": 2,
       "version_minor": 0
      },
      "text/plain": [
       "Evaluating Validation Set:   0%|          | 0/8 [00:00<?, ?it/s]"
      ]
     },
     "metadata": {},
     "output_type": "display_data"
    },
    {
     "data": {
      "application/vnd.jupyter.widget-view+json": {
       "model_id": "e8bcfbd74f2347b985beb134a97bfb84",
       "version_major": 2,
       "version_minor": 0
      },
      "text/plain": [
       "Training:   0%|          | 0/71 [00:00<?, ?it/s]"
      ]
     },
     "metadata": {},
     "output_type": "display_data"
    },
    {
     "data": {
      "application/vnd.jupyter.widget-view+json": {
       "model_id": "e4e2a3f209be48c199f3170f8cea8444",
       "version_major": 2,
       "version_minor": 0
      },
      "text/plain": [
       "Evaluating Train Set:   0%|          | 0/71 [00:00<?, ?it/s]"
      ]
     },
     "metadata": {},
     "output_type": "display_data"
    },
    {
     "data": {
      "application/vnd.jupyter.widget-view+json": {
       "model_id": "94918c0b520f43a2a418148073ca674d",
       "version_major": 2,
       "version_minor": 0
      },
      "text/plain": [
       "Evaluating Validation Set:   0%|          | 0/8 [00:00<?, ?it/s]"
      ]
     },
     "metadata": {},
     "output_type": "display_data"
    },
    {
     "data": {
      "application/vnd.jupyter.widget-view+json": {
       "model_id": "2d5f8a7ca0d14ec8a293920b29728cac",
       "version_major": 2,
       "version_minor": 0
      },
      "text/plain": [
       "Training:   0%|          | 0/71 [00:00<?, ?it/s]"
      ]
     },
     "metadata": {},
     "output_type": "display_data"
    },
    {
     "data": {
      "application/vnd.jupyter.widget-view+json": {
       "model_id": "24c3b99db5c346e084987ecea2306088",
       "version_major": 2,
       "version_minor": 0
      },
      "text/plain": [
       "Evaluating Train Set:   0%|          | 0/71 [00:00<?, ?it/s]"
      ]
     },
     "metadata": {},
     "output_type": "display_data"
    },
    {
     "data": {
      "application/vnd.jupyter.widget-view+json": {
       "model_id": "f7fe0b1573de441e82882d5cb45ab31c",
       "version_major": 2,
       "version_minor": 0
      },
      "text/plain": [
       "Evaluating Validation Set:   0%|          | 0/8 [00:00<?, ?it/s]"
      ]
     },
     "metadata": {},
     "output_type": "display_data"
    },
    {
     "data": {
      "application/vnd.jupyter.widget-view+json": {
       "model_id": "e22a090ed3a14de29f16c5bf055787d9",
       "version_major": 2,
       "version_minor": 0
      },
      "text/plain": [
       "Training:   0%|          | 0/71 [00:00<?, ?it/s]"
      ]
     },
     "metadata": {},
     "output_type": "display_data"
    },
    {
     "data": {
      "application/vnd.jupyter.widget-view+json": {
       "model_id": "a273130bfb124c4a9f7163b4d60a54b8",
       "version_major": 2,
       "version_minor": 0
      },
      "text/plain": [
       "Evaluating Train Set:   0%|          | 0/71 [00:00<?, ?it/s]"
      ]
     },
     "metadata": {},
     "output_type": "display_data"
    },
    {
     "data": {
      "application/vnd.jupyter.widget-view+json": {
       "model_id": "f27f63f20f3344a7b45ecb5577ca8a51",
       "version_major": 2,
       "version_minor": 0
      },
      "text/plain": [
       "Evaluating Validation Set:   0%|          | 0/8 [00:00<?, ?it/s]"
      ]
     },
     "metadata": {},
     "output_type": "display_data"
    },
    {
     "data": {
      "application/vnd.jupyter.widget-view+json": {
       "model_id": "09505e14a50f4af692ee2a8082587353",
       "version_major": 2,
       "version_minor": 0
      },
      "text/plain": [
       "Training:   0%|          | 0/71 [00:00<?, ?it/s]"
      ]
     },
     "metadata": {},
     "output_type": "display_data"
    },
    {
     "data": {
      "application/vnd.jupyter.widget-view+json": {
       "model_id": "25961ea752e542b89130b60e091f1988",
       "version_major": 2,
       "version_minor": 0
      },
      "text/plain": [
       "Evaluating Train Set:   0%|          | 0/71 [00:00<?, ?it/s]"
      ]
     },
     "metadata": {},
     "output_type": "display_data"
    },
    {
     "data": {
      "application/vnd.jupyter.widget-view+json": {
       "model_id": "8a607accf0f047e682c453af2c8d3de6",
       "version_major": 2,
       "version_minor": 0
      },
      "text/plain": [
       "Evaluating Validation Set:   0%|          | 0/8 [00:00<?, ?it/s]"
      ]
     },
     "metadata": {},
     "output_type": "display_data"
    },
    {
     "data": {
      "application/vnd.jupyter.widget-view+json": {
       "model_id": "d745480a0d9348df8c584bb9d4d2f302",
       "version_major": 2,
       "version_minor": 0
      },
      "text/plain": [
       "Training:   0%|          | 0/71 [00:00<?, ?it/s]"
      ]
     },
     "metadata": {},
     "output_type": "display_data"
    },
    {
     "data": {
      "application/vnd.jupyter.widget-view+json": {
       "model_id": "62f1014f9e6c459c903cb179c961cec1",
       "version_major": 2,
       "version_minor": 0
      },
      "text/plain": [
       "Evaluating Train Set:   0%|          | 0/71 [00:00<?, ?it/s]"
      ]
     },
     "metadata": {},
     "output_type": "display_data"
    },
    {
     "data": {
      "application/vnd.jupyter.widget-view+json": {
       "model_id": "61ba6e0619984165bf7262dc87e74580",
       "version_major": 2,
       "version_minor": 0
      },
      "text/plain": [
       "Evaluating Validation Set:   0%|          | 0/8 [00:00<?, ?it/s]"
      ]
     },
     "metadata": {},
     "output_type": "display_data"
    },
    {
     "data": {
      "application/vnd.jupyter.widget-view+json": {
       "model_id": "ea1500fed7c64f889965677d036a0c75",
       "version_major": 2,
       "version_minor": 0
      },
      "text/plain": [
       "Training:   0%|          | 0/71 [00:00<?, ?it/s]"
      ]
     },
     "metadata": {},
     "output_type": "display_data"
    },
    {
     "data": {
      "application/vnd.jupyter.widget-view+json": {
       "model_id": "143b39ec359c43768ddba1ff3cb87ad4",
       "version_major": 2,
       "version_minor": 0
      },
      "text/plain": [
       "Evaluating Train Set:   0%|          | 0/71 [00:00<?, ?it/s]"
      ]
     },
     "metadata": {},
     "output_type": "display_data"
    },
    {
     "data": {
      "application/vnd.jupyter.widget-view+json": {
       "model_id": "baa2f3aac5f44390801137d3788422f4",
       "version_major": 2,
       "version_minor": 0
      },
      "text/plain": [
       "Evaluating Validation Set:   0%|          | 0/8 [00:00<?, ?it/s]"
      ]
     },
     "metadata": {},
     "output_type": "display_data"
    },
    {
     "data": {
      "application/vnd.jupyter.widget-view+json": {
       "model_id": "938260a33c6d497bac02f7e57c682914",
       "version_major": 2,
       "version_minor": 0
      },
      "text/plain": [
       "Training:   0%|          | 0/71 [00:00<?, ?it/s]"
      ]
     },
     "metadata": {},
     "output_type": "display_data"
    },
    {
     "data": {
      "application/vnd.jupyter.widget-view+json": {
       "model_id": "a976a63589c1469eb58eaded42c5d3e2",
       "version_major": 2,
       "version_minor": 0
      },
      "text/plain": [
       "Evaluating Train Set:   0%|          | 0/71 [00:00<?, ?it/s]"
      ]
     },
     "metadata": {},
     "output_type": "display_data"
    },
    {
     "data": {
      "application/vnd.jupyter.widget-view+json": {
       "model_id": "13d869627ce74736823ec73b3c32b75e",
       "version_major": 2,
       "version_minor": 0
      },
      "text/plain": [
       "Evaluating Validation Set:   0%|          | 0/8 [00:00<?, ?it/s]"
      ]
     },
     "metadata": {},
     "output_type": "display_data"
    },
    {
     "data": {
      "application/vnd.jupyter.widget-view+json": {
       "model_id": "d44d23d26d9e4ba38ac4cffd68fc8df7",
       "version_major": 2,
       "version_minor": 0
      },
      "text/plain": [
       "Training:   0%|          | 0/71 [00:00<?, ?it/s]"
      ]
     },
     "metadata": {},
     "output_type": "display_data"
    },
    {
     "data": {
      "application/vnd.jupyter.widget-view+json": {
       "model_id": "63270cf5e00c486d85542b0ccbb782df",
       "version_major": 2,
       "version_minor": 0
      },
      "text/plain": [
       "Evaluating Train Set:   0%|          | 0/71 [00:00<?, ?it/s]"
      ]
     },
     "metadata": {},
     "output_type": "display_data"
    },
    {
     "data": {
      "application/vnd.jupyter.widget-view+json": {
       "model_id": "8281a6b5411a461aa083bbfb2c6ef096",
       "version_major": 2,
       "version_minor": 0
      },
      "text/plain": [
       "Evaluating Validation Set:   0%|          | 0/8 [00:00<?, ?it/s]"
      ]
     },
     "metadata": {},
     "output_type": "display_data"
    },
    {
     "data": {
      "application/vnd.jupyter.widget-view+json": {
       "model_id": "8add5b783ad84165b3f6b6ac4e51748f",
       "version_major": 2,
       "version_minor": 0
      },
      "text/plain": [
       "Training:   0%|          | 0/71 [00:00<?, ?it/s]"
      ]
     },
     "metadata": {},
     "output_type": "display_data"
    },
    {
     "data": {
      "application/vnd.jupyter.widget-view+json": {
       "model_id": "95d4facad02a43a09fae659205d6fea0",
       "version_major": 2,
       "version_minor": 0
      },
      "text/plain": [
       "Evaluating Train Set:   0%|          | 0/71 [00:00<?, ?it/s]"
      ]
     },
     "metadata": {},
     "output_type": "display_data"
    },
    {
     "data": {
      "application/vnd.jupyter.widget-view+json": {
       "model_id": "30891ba82bd241f583b6fce18b167356",
       "version_major": 2,
       "version_minor": 0
      },
      "text/plain": [
       "Evaluating Validation Set:   0%|          | 0/8 [00:00<?, ?it/s]"
      ]
     },
     "metadata": {},
     "output_type": "display_data"
    },
    {
     "data": {
      "application/vnd.jupyter.widget-view+json": {
       "model_id": "24a30870a1b548d9a242c1fd83ea284d",
       "version_major": 2,
       "version_minor": 0
      },
      "text/plain": [
       "Training:   0%|          | 0/71 [00:00<?, ?it/s]"
      ]
     },
     "metadata": {},
     "output_type": "display_data"
    },
    {
     "data": {
      "application/vnd.jupyter.widget-view+json": {
       "model_id": "7593c118ad2f46c19242f14bec795ae2",
       "version_major": 2,
       "version_minor": 0
      },
      "text/plain": [
       "Evaluating Train Set:   0%|          | 0/71 [00:00<?, ?it/s]"
      ]
     },
     "metadata": {},
     "output_type": "display_data"
    },
    {
     "data": {
      "application/vnd.jupyter.widget-view+json": {
       "model_id": "3899f1309de144d1a81496ac2adece02",
       "version_major": 2,
       "version_minor": 0
      },
      "text/plain": [
       "Evaluating Validation Set:   0%|          | 0/8 [00:00<?, ?it/s]"
      ]
     },
     "metadata": {},
     "output_type": "display_data"
    },
    {
     "data": {
      "application/vnd.jupyter.widget-view+json": {
       "model_id": "2c4db32d4b8b4d81862186176a4ecb41",
       "version_major": 2,
       "version_minor": 0
      },
      "text/plain": [
       "Training:   0%|          | 0/71 [00:00<?, ?it/s]"
      ]
     },
     "metadata": {},
     "output_type": "display_data"
    },
    {
     "data": {
      "application/vnd.jupyter.widget-view+json": {
       "model_id": "5c19378014314488a35651165e7068e3",
       "version_major": 2,
       "version_minor": 0
      },
      "text/plain": [
       "Evaluating Train Set:   0%|          | 0/71 [00:00<?, ?it/s]"
      ]
     },
     "metadata": {},
     "output_type": "display_data"
    },
    {
     "data": {
      "application/vnd.jupyter.widget-view+json": {
       "model_id": "ec3c0262c0174819bb626698ede93775",
       "version_major": 2,
       "version_minor": 0
      },
      "text/plain": [
       "Evaluating Validation Set:   0%|          | 0/8 [00:00<?, ?it/s]"
      ]
     },
     "metadata": {},
     "output_type": "display_data"
    },
    {
     "data": {
      "application/vnd.jupyter.widget-view+json": {
       "model_id": "13eb12f4f9454b83a5c6e83c587b2d42",
       "version_major": 2,
       "version_minor": 0
      },
      "text/plain": [
       "Training:   0%|          | 0/71 [00:00<?, ?it/s]"
      ]
     },
     "metadata": {},
     "output_type": "display_data"
    },
    {
     "data": {
      "application/vnd.jupyter.widget-view+json": {
       "model_id": "489aab9d5b2e4950b7294db40a51c05c",
       "version_major": 2,
       "version_minor": 0
      },
      "text/plain": [
       "Evaluating Train Set:   0%|          | 0/71 [00:00<?, ?it/s]"
      ]
     },
     "metadata": {},
     "output_type": "display_data"
    },
    {
     "data": {
      "application/vnd.jupyter.widget-view+json": {
       "model_id": "5eeda14958004a3aa8b6ecce4860e72d",
       "version_major": 2,
       "version_minor": 0
      },
      "text/plain": [
       "Evaluating Validation Set:   0%|          | 0/8 [00:00<?, ?it/s]"
      ]
     },
     "metadata": {},
     "output_type": "display_data"
    },
    {
     "name": "stdout",
     "output_type": "stream",
     "text": [
      "Highest validation accuracy: 70.00%\n",
      "Training time: 262.91 seconds\n"
     ]
    }
   ],
   "source": [
    "start_time = time.time()\n",
    "model_trainer.run_training(n_epochs=n_epochs)\n",
    "end_time = time.time()\n",
    "\n",
    "print(f'Highest validation accuracy: {100*model_trainer.best_valid_acc:.2f}%')\n",
    "print(f'Training time: {(end_time - start_time):.2f} seconds')"
   ]
  },
  {
   "cell_type": "code",
   "execution_count": 43,
   "metadata": {},
   "outputs": [
    {
     "data": {
      "image/png": "[encoded data removed]",
      "text/plain": [
       "<Figure size 640x480 with 1 Axes>"
      ]
     },
     "metadata": {},
     "output_type": "display_data"
    }
   ],
   "source": [
    "x_epoch = np.linspace(0, n_epochs, len(model_trainer.train_loss_logger))\n",
    "plt.axhline(y=0, ls='--', color='k', lw=1)\n",
    "plt.plot(x_epoch, model_trainer.train_loss_logger, lw=1)\n",
    "\n",
    "xticks_format = plt.FuncFormatter(lambda y, pos: f'{int(y)}')\n",
    "plt.gca().xaxis.set_major_formatter(xticks_format)\n",
    "plt.xlabel('Epoch')\n",
    "plt.ylabel('Training loss')\n",
    "plt.title(model_name.replace('_', ' '), fontsize=15)\n",
    "plt.show()"
   ]
  },
  {
   "cell_type": "code",
   "execution_count": 44,
   "metadata": {},
   "outputs": [
    {
     "data": {
      "application/vnd.jupyter.widget-view+json": {
       "model_id": "bcaba970560d425c9556c5c3facbac9c",
       "version_major": 2,
       "version_minor": 0
      },
      "text/plain": [
       "Evaluating Test Set:   0%|          | 0/125 [00:00<?, ?it/s]"
      ]
     },
     "metadata": {},
     "output_type": "display_data"
    },
    {
     "data": {
      "image/png": "[encoded data removed]",
      "text/plain": [
       "<Figure size 640x480 with 1 Axes>"
      ]
     },
     "metadata": {},
     "output_type": "display_data"
    }
   ],
   "source": [
    "x_epoch = np.linspace(0, n_epochs, len(model_trainer.train_acc_logger))\n",
    "plt.plot(x_epoch, model_trainer.train_acc_logger, marker='o', label='Training accuracy')\n",
    "\n",
    "x_epoch = np.linspace(0, n_epochs, len(model_trainer.val_acc_logger))\n",
    "plt.plot(x_epoch, model_trainer.val_acc_logger, marker='o', label='Validation accuracy')\n",
    "\n",
    "testing_accuracy = model_trainer.evaluate_model(train_test_val='test')\n",
    "plt.axhline(y=testing_accuracy, color=[0, 0.6, 0], ls='--', lw=1, label='Testing accuracy')\n",
    "plt.text(0, 1.01*testing_accuracy, f'{100*testing_accuracy:.2f}%', color=[0, 0.6, 0], va='bottom')\n",
    "\n",
    "plt.ylim([0, 1])\n",
    "xticks_format = plt.FuncFormatter(lambda y, pos: f'{int(y)}')\n",
    "plt.gca().xaxis.set_major_formatter(xticks_format)\n",
    "plt.xlabel('Epoch')\n",
    "plt.legend(loc = 'lower right')\n",
    "plt.title(model_name.replace('_', ' '), fontsize=15)\n",
    "plt.show()"
   ]
  },
  {
   "cell_type": "markdown",
   "metadata": {},
   "source": [
    "We achieve a ~8.4% increase in accuracy compared to a previous attempt at classifying this dataset without unsuperviserd learning (done outside of this notebook)."
   ]
  }
 ],
 "metadata": {
  "kernelspec": {
   "display_name": "Python 3",
   "language": "python",
   "name": "python3"
  },
  "language_info": {
   "codemirror_mode": {
    "name": "ipython",
    "version": 3
   },
   "file_extension": ".py",
   "mimetype": "text/x-python",
   "name": "python",
   "nbconvert_exporter": "python",
   "pygments_lexer": "ipython3",
   "version": "3.9.6"
  }
 },
 "nbformat": 4,
 "nbformat_minor": 2
}
